{
 "cells": [
  {
   "cell_type": "code",
   "execution_count": 1,
   "id": "61716882-c5e4-44b7-bc2f-16090ad06539",
   "metadata": {},
   "outputs": [
    {
     "data": {
      "text/plain": [
       "3600"
      ]
     },
     "execution_count": 1,
     "metadata": {},
     "output_type": "execute_result"
    }
   ],
   "source": [
    "60*60"
   ]
  },
  {
   "cell_type": "code",
   "execution_count": 9,
   "id": "4a55f0f1-71ab-4a6b-9520-724bbef885b5",
   "metadata": {},
   "outputs": [],
   "source": [
    "seconds_per_hour = 60*60"
   ]
  },
  {
   "cell_type": "code",
   "execution_count": 11,
   "id": "04d69d32-4789-406e-a92c-1a1912b1a6d5",
   "metadata": {},
   "outputs": [
    {
     "data": {
      "text/plain": [
       "3600"
      ]
     },
     "execution_count": 11,
     "metadata": {},
     "output_type": "execute_result"
    }
   ],
   "source": [
    "seconds_per_hour"
   ]
  },
  {
   "cell_type": "code",
   "execution_count": 13,
   "id": "b035383b-a61f-4d79-be90-528e5c5bdb73",
   "metadata": {},
   "outputs": [
    {
     "data": {
      "text/plain": [
       "86400"
      ]
     },
     "execution_count": 13,
     "metadata": {},
     "output_type": "execute_result"
    }
   ],
   "source": [
    "24 * seconds_per_hour"
   ]
  },
  {
   "cell_type": "code",
   "execution_count": 15,
   "id": "3c14a481-775b-4c1e-b870-7e67bf7f1405",
   "metadata": {},
   "outputs": [],
   "source": [
    "seconds_per_day = 24 * seconds_per_hour"
   ]
  },
  {
   "cell_type": "code",
   "execution_count": 17,
   "id": "b5b02d1b-3d80-4870-a47f-7ff1ec83ba23",
   "metadata": {},
   "outputs": [
    {
     "data": {
      "text/plain": [
       "86400"
      ]
     },
     "execution_count": 17,
     "metadata": {},
     "output_type": "execute_result"
    }
   ],
   "source": [
    "seconds_per_day"
   ]
  },
  {
   "cell_type": "code",
   "execution_count": 19,
   "id": "f505af91-8538-4754-8a28-b61717fa8cb9",
   "metadata": {},
   "outputs": [
    {
     "data": {
      "text/plain": [
       "24.0"
      ]
     },
     "execution_count": 19,
     "metadata": {},
     "output_type": "execute_result"
    }
   ],
   "source": [
    "seconds_per_day / seconds_per_hour"
   ]
  },
  {
   "cell_type": "code",
   "execution_count": 21,
   "id": "ae9c8511-8e4e-40b6-b087-2806ec473a1d",
   "metadata": {},
   "outputs": [
    {
     "data": {
      "text/plain": [
       "24"
      ]
     },
     "execution_count": 21,
     "metadata": {},
     "output_type": "execute_result"
    }
   ],
   "source": [
    "seconds_per_day // seconds_per_hour"
   ]
  },
  {
   "cell_type": "code",
   "execution_count": 23,
   "id": "3618353e-e115-449f-a4b2-887f443ed451",
   "metadata": {},
   "outputs": [
    {
     "name": "stdout",
     "output_type": "stream",
     "text": [
      "yes, the result did agree, aside from the trailing .0\n"
     ]
    }
   ],
   "source": [
    "print(\"yes, the result did agree, aside from the trailing .0\")"
   ]
  },
  {
   "cell_type": "code",
   "execution_count": null,
   "id": "104d00c1-31b6-4794-bdb5-878d922901d4",
   "metadata": {},
   "outputs": [],
   "source": []
  }
 ],
 "metadata": {
  "kernelspec": {
   "display_name": "Python 3 (ipykernel)",
   "language": "python",
   "name": "python3"
  },
  "language_info": {
   "codemirror_mode": {
    "name": "ipython",
    "version": 3
   },
   "file_extension": ".py",
   "mimetype": "text/x-python",
   "name": "python",
   "nbconvert_exporter": "python",
   "pygments_lexer": "ipython3",
   "version": "3.12.4"
  }
 },
 "nbformat": 4,
 "nbformat_minor": 5
}
